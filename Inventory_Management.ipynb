{
  "nbformat": 4,
  "nbformat_minor": 0,
  "metadata": {
    "colab": {
      "provenance": [],
      "authorship_tag": "ABX9TyNc7ZFKgb0W60L7ilooj+x6",
      "include_colab_link": true
    },
    "kernelspec": {
      "name": "python3",
      "display_name": "Python 3"
    },
    "language_info": {
      "name": "python"
    }
  },
  "cells": [
    {
      "cell_type": "markdown",
      "metadata": {
        "id": "view-in-github",
        "colab_type": "text"
      },
      "source": [
        "<a href=\"https://colab.research.google.com/github/rishumishraprojects/Inverntory_Management/blob/main/Inventory_Management.ipynb\" target=\"_parent\"><img src=\"https://colab.research.google.com/assets/colab-badge.svg\" alt=\"Open In Colab\"/></a>"
      ]
    },
    {
      "cell_type": "code",
      "source": [
        "fd = open('inventory.txt', 'w')\n",
        "fd.write(\"1, Chocolate, 5, 100\\n\")\n",
        "fd.write(\"2, Milky Bar, 10, 50\\n\")\n",
        "fd.write(\"3, Cake, 300, 5, 80\\n\")\n",
        "fd.write(\"4, Candy, 1, 200, 30\")\n",
        "fd.close()\n",
        "\n",
        "# Open the inventory file and read data\n",
        "fd = open('inventory.txt', 'r')\n",
        "\n",
        "products = fd.read().split('\\n')\n",
        "fd.close()\n",
        "\n",
        "print(products)"
      ],
      "metadata": {
        "colab": {
          "base_uri": "https://localhost:8080/"
        },
        "id": "YEAKpiayScJC",
        "outputId": "94fd74b7-7046-469b-c48d-82cb72723797"
      },
      "execution_count": null,
      "outputs": [
        {
          "output_type": "stream",
          "name": "stdout",
          "text": [
            "['1, Chocolate, 5, 100', '2, Milky Bar, 10, 50', '3, Cake, 300, 5, 80', '4, Candy, 1, 200, 30']\n"
          ]
        }
      ]
    },
    {
      "cell_type": "code",
      "source": [
        "ui_prod_id = input(\"Enter product ID: \")\n",
        "ui_prod_qn = input(\"Enter product Quantity: \")\n",
        "\n",
        "# Open the inventory file and read data to get the current state\n",
        "fd = open('inventory.txt', 'r')\n",
        "products = fd.read().split('\\n')\n",
        "fd.close()\n",
        "\n",
        "updated_product_lst = []  # To store updated inventory\n",
        "\n",
        "for product in products:\n",
        "    prod_details = product.split(',')\n",
        "    prod_details = [detail.strip() for detail in prod_details]\n",
        "\n",
        "\n",
        "    if prod_details[0] == ui_prod_id:\n",
        "        print(\"-----------------------------\")\n",
        "        print(\"Product Name     : \", prod_details[1])\n",
        "        print(\"Price            : \", prod_details[2])\n",
        "        print(\"Quantity         : \", ui_prod_qn)\n",
        "        print(\"-----------------------------\")\n",
        "\n",
        "        # Calculate Billing Amount\n",
        "        billing_amount = int(ui_prod_qn) * int(prod_details[2])\n",
        "        print(\"Billing Amount   : \", billing_amount)\n",
        "        print(\"-----------------------------\")\n",
        "\n",
        "        # Deduct the purchased quantity from inventory\n",
        "        # Ensure there are enough items before deducting\n",
        "        if int(prod_details[3]) >= int(ui_prod_qn):\n",
        "          prod_details[3] = str(int(prod_details[3]) - int(ui_prod_qn))\n",
        "        else:\n",
        "          print(\"Error: Not enough quantity in stock.\")\n",
        "          # Optionally, you might want to skip updating this product's quantity in the file\n",
        "          # or handle this case differently. For now, we'll add the original details.\n",
        "\n",
        "\n",
        "    updated_product_lst.append(prod_details)"
      ],
      "metadata": {
        "colab": {
          "base_uri": "https://localhost:8080/"
        },
        "id": "nMoVVw1OT9-S",
        "outputId": "2c8ff24e-af09-4699-b544-ac742bfdedb9"
      },
      "execution_count": null,
      "outputs": [
        {
          "output_type": "stream",
          "name": "stdout",
          "text": [
            "Enter product ID: 2\n",
            "Enter product Quantity: 1\n",
            "-----------------------------\n",
            "Product Name     :  Milky Bar\n",
            "Price            :  10\n",
            "Quantity         :  1\n",
            "-----------------------------\n",
            "Billing Amount   :  10\n",
            "-----------------------------\n"
          ]
        }
      ]
    },
    {
      "cell_type": "code",
      "metadata": {
        "colab": {
          "base_uri": "https://localhost:8080/"
        },
        "id": "d319ca15",
        "outputId": "4950980c-1846-4ff8-c6b4-f5a656527dea"
      },
      "source": [
        "# Write the updated inventory back to the file\n",
        "fd = open('inventory.txt', 'w')\n",
        "for product_details in updated_product_lst:\n",
        "    fd.write(', '.join(product_details) + '\\n')\n",
        "fd.close()\n",
        "\n",
        "print(\"Inventory updated successfully!\")\n",
        "print(updated_product_lst)"
      ],
      "execution_count": null,
      "outputs": [
        {
          "output_type": "stream",
          "name": "stdout",
          "text": [
            "Inventory updated successfully!\n",
            "[['1', 'Chocolate', '5', '100'], ['2', 'Milky Bar', '10', '48'], ['3', 'Cake', '300', '5', '80'], ['4', 'Candy', '1', '200', '30'], [''], ['']]\n"
          ]
        }
      ]
    }
  ]
}